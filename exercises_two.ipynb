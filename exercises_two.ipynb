{
 "cells": [
  {
   "cell_type": "markdown",
   "metadata": {},
   "source": [
    "## 4. Calculation % of a list\n",
    "\n",
    "We'll do something like \"filter\" a list, using \"for\" methods.\n",
    "\n",
    "Let's say we have a list of salespeople and instead of knowing all the salespeople who hit the target, I want to be able to calculate the % of salespeople who hit the target. That is, if we have 10 salespeople and 3 have reached the goal, we have 30% of the salespeople who have reached the goal."
   ]
  },
  {
   "cell_type": "code",
   "execution_count": 3,
   "metadata": {},
   "outputs": [
    {
     "name": "stdout",
     "output_type": "stream",
     "text": [
      "[['João', 15000], ['Julia', 27000], ['Ana', 10300]]\n",
      "The percent of salespeople that have acheved the goal is 50.0%\n"
     ]
    }
   ],
   "source": [
    "goal = 10000\n",
    "sales = [\n",
    "    ['João', 15000],\n",
    "    ['Julia', 27000],\n",
    "    ['Marcus', 9900],\n",
    "    ['Maria', 3750],\n",
    "    ['Ana', 10300],\n",
    "    ['Alon', 7870],\n",
    "]\n",
    "\n",
    "salespeople_achieved_goal = []\n",
    "for i, sale in enumerate(sales):\n",
    "    if sales[i][1] >= goal:\n",
    "        salespeople_achieved_goal.append(sales[i])\n",
    "\n",
    "percent_salespeople_goal = len(salespeople_achieved_goal) / len(sales) * 100\n",
    "\n",
    "print(salespeople_achieved_goal)\n",
    "print(f\"The percent of salespeople that have acheved the goal is {percent_salespeople_goal}%\")\n"
   ]
  },
  {
   "cell_type": "markdown",
   "metadata": {},
   "source": [
    "## To train a similar structure, create code to answer: \n",
    "who was the salesperson who sold the most?"
   ]
  },
  {
   "cell_type": "code",
   "execution_count": 7,
   "metadata": {},
   "outputs": [
    {
     "name": "stdout",
     "output_type": "stream",
     "text": [
      "The best salespeople was Julia with 27000 of sales.\n"
     ]
    }
   ],
   "source": [
    "best_salepeople = ''\n",
    "biggest_sale = 0\n",
    "\n",
    "for i, sale in enumerate(sales):\n",
    "  if sale[1] > biggest_sale:\n",
    "    biggest_sale = sale[1]\n",
    "    best_salepeople = sale[0]\n",
    "\n",
    "print(f'The best salespeople was {best_salepeople} with {biggest_sale} of sales.')"
   ]
  }
 ],
 "metadata": {
  "kernelspec": {
   "display_name": "Python 3.10.4 64-bit",
   "language": "python",
   "name": "python3"
  },
  "language_info": {
   "codemirror_mode": {
    "name": "ipython",
    "version": 3
   },
   "file_extension": ".py",
   "mimetype": "text/x-python",
   "name": "python",
   "nbconvert_exporter": "python",
   "pygments_lexer": "ipython3",
   "version": "3.10.4"
  },
  "vscode": {
   "interpreter": {
    "hash": "396a487d0f9a1aeea6eec7e2661c1b70bd880358e710a503b71d50d0e4959784"
   }
  }
 },
 "nbformat": 4,
 "nbformat_minor": 4
}
