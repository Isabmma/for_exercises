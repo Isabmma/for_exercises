{
 "cells": [
  {
   "cell_type": "markdown",
   "metadata": {},
   "source": [
    "## 1. Creating a guest record\n",
    "\n",
    "Let's say that you are creating the system to record the arrival of guests ate a hotel. At the hotel, guests can have rooms with 1, 2, 3 or 4 people. Your system should be able to:\n",
    "\n",
    "1. Identify how many people the arrived guest will have in the room (asking with input)\n",
    "2. According to the number of people of the guest, he must do a for to ask for the cpf and name of each person, in order to register him in the room (2 entries for each person, 1 for the cpf and another for the name )\n",
    "3. Your program should then generate a list of all the people who will stay in the room where each item in this list is the person's name and the person's cpf, like this:\n",
    "\n",
    "room = [\n",
    "    ['João', 'cpf:00000000000'],\n",
    "    ['Julia', 'cpf:11111111111'],\n",
    "    ['Marcus', 'cpf:22222222222'],\n",
    "    ['Maria', 'cpf:33333333333'],\n",
    "]"
   ]
  },
  {
   "cell_type": "markdown",
   "metadata": {},
   "source": [
    "- To simplify, we will not worry about the possibility of \"trying to place more than 1 guest, typing the wrong cpf, etc. Our objective is to train the creation of a registration routine."
   ]
  },
  {
   "cell_type": "code",
   "execution_count": 5,
   "metadata": {},
   "outputs": [
    {
     "name": "stdout",
     "output_type": "stream",
     "text": [
      "[['isa', 'cpf: 432'], ['di', 'cpf: 32']]\n"
     ]
    }
   ],
   "source": [
    "def guest_record():\n",
    "  #Identify how many people the arrived guest will have in the room (asking with input)\n",
    "  peaople_in_room = int(input(\"How many people will stay in the room? (1, 2, 3 or 4) \"))\n",
    "\n",
    "  room = []\n",
    "  \n",
    "  for i in range(peaople_in_room):\n",
    "    cpf = int(input(\"Type off your CPF: (just numbers\"))\n",
    "    name =  input('Type off your Name: (first and last')\n",
    "    person = [name, f\"cpf: {cpf}\"]\n",
    "\n",
    "    room.append(person)\n",
    "    \n",
    "  print (room)\n",
    "\n",
    "guest_record()"
   ]
  },
  {
   "cell_type": "markdown",
   "metadata": {},
   "source": [
    "## 2. Seles Analysis\n",
    "\n",
    "In this exercise we sill do a \"simple analisis\" of goal achievement.\n",
    "\n",
    "We have a list of salespeople and sales values and we want to identify (print) which salespeople have reached the goal and what value they sold."
   ]
  },
  {
   "cell_type": "code",
   "execution_count": 6,
   "metadata": {},
   "outputs": [
    {
     "name": "stdout",
     "output_type": "stream",
     "text": [
      "The salesperson João reached the goal with 15000 sales.\n",
      "The salesperson Julia reached the goal with 27000 sales.\n",
      "The salesperson Ana reached the goal with 10300 sales.\n"
     ]
    }
   ],
   "source": [
    "goal = 10000\n",
    "sales = [\n",
    "    ['João', 15000],\n",
    "    ['Julia', 27000],\n",
    "    ['Marcus', 9900],\n",
    "    ['Maria', 3750],\n",
    "    ['Ana', 10300],\n",
    "    ['Alon', 7870],\n",
    "]\n",
    "\n",
    "for sale in sales:\n",
    "    if sale[1] >= goal:\n",
    "        print(f\"The salesperson {sale[0]} reached the goal with {sale[1]} sales.\")\n"
   ]
  },
  {
   "cell_type": "markdown",
   "metadata": {},
   "source": [
    "## 3. Comparison with Previous Year\n",
    "\n",
    "Let's say you are analyzing the sales of products from an ecommerce and you want to identify which products had more sales in 2020 than in 2019, to report this to the board.\n",
    "\n",
    "Your answer can be a print of each product, what was the sale of 2019, the sale of 2020 and the % growth from 2020 to 2019.\n",
    "\n",
    "Tip: remember the enumerate, it can make your \"for\" easier"
   ]
  },
  {
   "cell_type": "code",
   "execution_count": 19,
   "metadata": {},
   "outputs": [
    {
     "name": "stdout",
     "output_type": "stream",
     "text": [
      "The product iphone sold 71% more in 2020 than 2019.\n",
      "The product tv sold 94% more in 2020 than 2019.\n",
      "The product máquina de café sold 21% more in 2020 than 2019.\n",
      "The product notebook dell sold 64% more in 2020 than 2019.\n",
      "The product notebook hp sold 249% more in 2020 than 2019.\n",
      "The product microsoft surface sold 52% more in 2020 than 2019.\n",
      "The product webcam sold 24% more in 2020 than 2019.\n",
      "The product caixa de som sold 48% more in 2020 than 2019.\n",
      "The product microfone sold 96% more in 2020 than 2019.\n",
      "The product câmera canon sold 68% more in 2020 than 2019.\n"
     ]
    }
   ],
   "source": [
    "products = ['iphone', 'galaxy', 'ipad', 'tv', 'máquina de café', 'kindle', 'geladeira', 'adega', 'notebook dell', 'notebook hp', 'notebook asus', 'microsoft surface', 'webcam', 'caixa de som', 'microfone', 'câmera canon']\n",
    "sales2019 = [558147,712350,573823,405252,718654,531580,973139,892292,422760,154753,887061,438508,237467,489705,328311,591120]\n",
    "sales2020 = [951642,244295,26964,787604,867660,78830,710331,646016,694913,539704,324831,667179,295633,725316,644622,994303]\n",
    "\n",
    "for i, product in enumerate(products):\n",
    "  if sales2020[i] > sales2019[i]:\n",
    "    calculate_percent_of_growth = sales2020[i] / sales2019[i] -1\n",
    "    percentage = \"{:.0%}\".format(calculate_percent_of_growth)\n",
    "    final = f\"The product {product} sold {percentage} more in 2020 than 2019.\"\n",
    "    print(final)"
   ]
  }
 ],
 "metadata": {
  "kernelspec": {
   "display_name": "Python 3.10.4 64-bit",
   "language": "python",
   "name": "python3"
  },
  "language_info": {
   "codemirror_mode": {
    "name": "ipython",
    "version": 3
   },
   "file_extension": ".py",
   "mimetype": "text/x-python",
   "name": "python",
   "nbconvert_exporter": "python",
   "pygments_lexer": "ipython3",
   "version": "3.10.4"
  },
  "vscode": {
   "interpreter": {
    "hash": "396a487d0f9a1aeea6eec7e2661c1b70bd880358e710a503b71d50d0e4959784"
   }
  }
 },
 "nbformat": 4,
 "nbformat_minor": 4
}
